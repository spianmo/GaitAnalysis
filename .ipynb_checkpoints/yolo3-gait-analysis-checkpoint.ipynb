{
 "cells": [
  {
   "cell_type": "markdown",
   "metadata": {
    "pycharm": {
     "name": "#%% md\n"
    }
   },
   "source": [
    "前机位和侧机位同时拍摄一段步态MP4视频，通过FFMPEG转换成两段步态AVI视频，作为输入数据"
   ]
  },
  {
   "cell_type": "code",
   "execution_count": 3,
   "metadata": {
    "pycharm": {
     "name": "#%%\n"
    }
   },
   "outputs": [
    {
     "name": "stdout",
     "output_type": "stream",
     "text": [
      "E://PycharmProjects/automated-gait-analysis/Part/Part01\\IMG_4303.mp4\n"
     ]
    }
   ],
   "source": [
    "from mp4_to_avi import convert_mp4_to_avi\n",
    "import glob\n",
    "\n",
    "input_directory = \"E://PycharmProjects/automated-gait-analysis/Part/Part01/\"\n",
    "output_directory = \"E://PycharmProjects/automated-gait-analysis/Part/Part01/\"\n",
    "files = glob.glob(input_directory + '*.mp4')\n",
    "for file_name in files:\n",
    "    try:\n",
    "        print(file_name)\n",
    "        convert_mp4_to_avi(file_name, output_directory)\n",
    "    except:\n",
    "        raise"
   ]
  },
  {
   "cell_type": "code",
   "execution_count": null,
   "metadata": {
    "pycharm": {
     "name": "#%%\n"
    }
   },
   "outputs": [],
   "source": [
    "# ==================================================================================\n",
    "#                               POSE ESTIMATION\n",
    "# ----------------------------------------------------------------------------------\n",
    "#                           Input: Video x 2, Output: JSON\n",
    "#               Given a front/back view and side view video of someone\n",
    "#               walking, this will generate a json, describing the pose\n",
    "#               via key-points in graph form, throughout every frame.\n",
    "# ==================================================================================\n",
    "# 使用yolo3_mobilenet1.0_coco预训练模型作为Object detector，使用AlphaPose作为Pose estimator，生成描述步态姿势的JSON文件，包括视频的每一帧。"
   ]
  },
  {
   "cell_type": "code",
   "execution_count": 4,
   "metadata": {
    "pycharm": {
     "name": "#%%\n"
    }
   },
   "outputs": [
    {
     "name": "stdout",
     "output_type": "stream",
     "text": [
      ".\\Part\\Part01\\*.avi\n",
      ".\\Part\\Part01\\IMG_4303 - 副本.avi\n",
      ".\\Part\\Part01\\IMG_4303.avi\n",
      "Capture pair (1/6) : \".\\Part\\Part01\\IMG_4303.avi\" , \".\\Part\\Part01\\IMG_4303 - 副本.avi\"\n"
     ]
    },
    {
     "name": "stderr",
     "output_type": "stream",
     "text": [
      "Processing: 100%|█████████████████████████████████████████████████| 324/324 [05:28<00:00,  1.01s/it]\n",
      "Processing: 100%|█████████████████████████████████████████████████| 324/324 [05:02<00:00,  1.07it/s]"
     ]
    },
    {
     "name": "stdout",
     "output_type": "stream",
     "text": [
      "Poses estimated and saved in \".\\Part\\Part01\\Part01_pose.json\" [Time: 630.80 s]\n"
     ]
    },
    {
     "name": "stderr",
     "output_type": "stream",
     "text": [
      "\n"
     ]
    }
   ],
   "source": [
    "from pose_estimation import estimate_poses\n",
    "import time\n",
    "import os\n",
    "\n",
    "path = '.\\\\Part\\\\Part01\\\\'\n",
    "if not os.path.exists(path):\n",
    "    os.makedirs(path)\n",
    "\n",
    "writeFile = path + 'Part01_pose.json'\n",
    "if not os.path.exists(writeFile):\n",
    "    f = open(writeFile, 'w')\n",
    "    f.close()\n",
    "\n",
    "start_time = time.time()\n",
    "estimate_poses(path, writeFile)\n",
    "print('Poses estimated and saved in', '\\\"' + writeFile + '\\\"', '[Time:',\n",
    "            '{0:.2f}'.format(time.time() - start_time), 's]')"
   ]
  },
  {
   "cell_type": "code",
   "execution_count": null,
   "metadata": {
    "pycharm": {
     "name": "#%%\n"
    }
   },
   "outputs": [],
   "source": [
    "# ==================================================================================\n",
    "#                               KINEMATICS_EXTRACTION\n",
    "# ----------------------------------------------------------------------------------\n",
    "#                      Input: Pose sequence, Output: Raw kinematics\n",
    "#               Given a JSON describing poses throughout two video views,\n",
    "#               Extracts kinematics and computes kinematics through joint angles\n",
    "# ==================================================================================\n",
    "#                                   Imports\n",
    "# =================================================================================="
   ]
  },
  {
   "cell_type": "code",
   "execution_count": 5,
   "metadata": {
    "pycharm": {
     "name": "#%%\n"
    }
   },
   "outputs": [
    {
     "name": "stdout",
     "output_type": "stream",
     "text": [
      "Kinematics extracted and saved in \".\\Part\\Part01\\Part01_angles.json\" [Time: 0.54 s]\n"
     ]
    }
   ],
   "source": [
    "from kinematics_extraction import kinematics_extract\n",
    "\n",
    "path = '.\\\\Part\\\\Part01\\\\'\n",
    "readFile = path + 'Part01_pose.json'\n",
    "writeFile = path + 'Part01_angles.json'\n",
    "start_time = time.time()\n",
    "kinematics_extract(readFile, writeFile)\n",
    "print('Kinematics extracted and saved in', '\\\"' + writeFile + '\\\"', '[Time:',\n",
    "        '{0:.2f}'.format(time.time() - start_time), 's]')"
   ]
  },
  {
   "cell_type": "code",
   "execution_count": null,
   "metadata": {
    "pycharm": {
     "name": "#%%\n"
    }
   },
   "outputs": [],
   "source": [
    "# ==================================================================================\n",
    "#                               KINEMATICS_PROCESSING\n",
    "# ----------------------------------------------------------------------------------\n",
    "#                    Input: Pose Json and Raw angles, Output: Gait Cycle graphs\n",
    "#               Given a JSON describing angles of joints throughout a walk,\n",
    "#               Smooth kinematics and averages to one standard gait cycle.\n",
    "# ==================================================================================\n",
    "# 根据姿势JSON和角度, 输出步态周期图"
   ]
  },
  {
   "cell_type": "code",
   "execution_count": 6,
   "metadata": {
    "pycharm": {
     "name": "#%%\n"
    }
   },
   "outputs": [
    {
     "ename": "StatisticsError",
     "evalue": "mean requires at least one data point",
     "output_type": "error",
     "traceback": [
      "\u001b[1;31m---------------------------------------------------------------------------\u001b[0m",
      "\u001b[1;31mStatisticsError\u001b[0m                           Traceback (most recent call last)",
      "Input \u001b[1;32mIn [6]\u001b[0m, in \u001b[0;36m<cell line: 8>\u001b[1;34m()\u001b[0m\n\u001b[0;32m      6\u001b[0m writeFile \u001b[38;5;241m=\u001b[39m path \u001b[38;5;241m+\u001b[39m \u001b[38;5;124m'\u001b[39m\u001b[38;5;124mPart01_gc.json\u001b[39m\u001b[38;5;124m'\u001b[39m\n\u001b[0;32m      7\u001b[0m start_time \u001b[38;5;241m=\u001b[39m time\u001b[38;5;241m.\u001b[39mtime()\n\u001b[1;32m----> 8\u001b[0m \u001b[43mkinematics_process\u001b[49m\u001b[43m(\u001b[49m\u001b[43mposeFile\u001b[49m\u001b[43m,\u001b[49m\u001b[43m \u001b[49m\u001b[43manglesFile\u001b[49m\u001b[43m,\u001b[49m\u001b[43m \u001b[49m\u001b[43mwriteFile\u001b[49m\u001b[43m)\u001b[49m\n\u001b[0;32m      9\u001b[0m \u001b[38;5;28mprint\u001b[39m(\u001b[38;5;124m'\u001b[39m\u001b[38;5;124mKinematics processed and saved in\u001b[39m\u001b[38;5;124m'\u001b[39m, \u001b[38;5;124m'\u001b[39m\u001b[38;5;130;01m\\\"\u001b[39;00m\u001b[38;5;124m'\u001b[39m \u001b[38;5;241m+\u001b[39m writeFile \u001b[38;5;241m+\u001b[39m \u001b[38;5;124m'\u001b[39m\u001b[38;5;130;01m\\\"\u001b[39;00m\u001b[38;5;124m'\u001b[39m, \u001b[38;5;124m'\u001b[39m\u001b[38;5;124m[Time:\u001b[39m\u001b[38;5;124m'\u001b[39m,\n\u001b[0;32m     10\u001b[0m               \u001b[38;5;124m'\u001b[39m\u001b[38;5;132;01m{0:.2f}\u001b[39;00m\u001b[38;5;124m'\u001b[39m\u001b[38;5;241m.\u001b[39mformat(time\u001b[38;5;241m.\u001b[39mtime() \u001b[38;5;241m-\u001b[39m start_time), \u001b[38;5;124m'\u001b[39m\u001b[38;5;124ms]\u001b[39m\u001b[38;5;124m'\u001b[39m)\n",
      "File \u001b[1;32mE:\\PycharmProjects\\automated-gait-analysis\\kinematics_processing.py:276\u001b[0m, in \u001b[0;36mkinematics_process\u001b[1;34m(poseFile, anglesFile, writeFile)\u001b[0m\n\u001b[0;32m    273\u001b[0m hip_AbdAdd2 \u001b[38;5;241m=\u001b[39m gcLR(hip_AbdAdd1, stepOnFrames_L, stepOnFrames_R)\n\u001b[0;32m    275\u001b[0m \u001b[38;5;66;03m# Removing gait cycles that are relatively too short to be correct\u001b[39;00m\n\u001b[1;32m--> 276\u001b[0m knee_FlexExt2, hip_FlexExt2, knee_AbdAdd2, hip_AbdAdd2 \u001b[38;5;241m=\u001b[39m \u001b[43mgcLR_removeShort\u001b[49m\u001b[43m(\u001b[49m\u001b[43mknee_FlexExt2\u001b[49m\u001b[43m,\u001b[49m\u001b[43m \u001b[49m\u001b[43mhip_FlexExt2\u001b[49m\u001b[43m,\u001b[49m\n\u001b[0;32m    277\u001b[0m \u001b[43m                                                                          \u001b[49m\u001b[43mknee_AbdAdd2\u001b[49m\u001b[43m,\u001b[49m\u001b[43m \u001b[49m\u001b[43mhip_AbdAdd2\u001b[49m\u001b[43m)\u001b[49m\n\u001b[0;32m    279\u001b[0m \u001b[38;5;66;03m# Resampling to 100 (100 and 0 inclusive)\u001b[39;00m\n\u001b[0;32m    280\u001b[0m knee_FlexExt3 \u001b[38;5;241m=\u001b[39m resample_gcLR(knee_FlexExt2, \u001b[38;5;241m101\u001b[39m)\n",
      "File \u001b[1;32mE:\\PycharmProjects\\automated-gait-analysis\\kinematics_processing.py:156\u001b[0m, in \u001b[0;36mgcLR_removeShort\u001b[1;34m(gcLR1, gcLR2, gcLR3, gcLR4)\u001b[0m\n\u001b[0;32m    153\u001b[0m len_gc_L \u001b[38;5;241m=\u001b[39m [\u001b[38;5;28mlen\u001b[39m(x) \u001b[38;5;28;01mfor\u001b[39;00m x \u001b[38;5;129;01min\u001b[39;00m gcLR1[\u001b[38;5;241m0\u001b[39m]]\n\u001b[0;32m    154\u001b[0m len_gc_R \u001b[38;5;241m=\u001b[39m [\u001b[38;5;28mlen\u001b[39m(x) \u001b[38;5;28;01mfor\u001b[39;00m x \u001b[38;5;129;01min\u001b[39;00m gcLR1[\u001b[38;5;241m1\u001b[39m]]\n\u001b[1;32m--> 156\u001b[0m thresh_gc_LR_short \u001b[38;5;241m=\u001b[39m [\u001b[38;5;241m0.7\u001b[39m \u001b[38;5;241m*\u001b[39m \u001b[43mmean\u001b[49m\u001b[43m(\u001b[49m\u001b[43mlen_gc_L\u001b[49m\u001b[43m)\u001b[49m, \u001b[38;5;241m0.7\u001b[39m \u001b[38;5;241m*\u001b[39m mean(len_gc_R)]\n\u001b[0;32m    157\u001b[0m thresh_gc_LR_long \u001b[38;5;241m=\u001b[39m [\u001b[38;5;241m1.3\u001b[39m \u001b[38;5;241m*\u001b[39m mean(len_gc_L), \u001b[38;5;241m1.3\u001b[39m \u001b[38;5;241m*\u001b[39m mean(len_gc_R)]\n\u001b[0;32m    159\u001b[0m \u001b[38;5;66;03m# Removes from left then right\u001b[39;00m\n",
      "File \u001b[1;32mC:\\Program Files\\Python38\\lib\\statistics.py:315\u001b[0m, in \u001b[0;36mmean\u001b[1;34m(data)\u001b[0m\n\u001b[0;32m    313\u001b[0m n \u001b[38;5;241m=\u001b[39m \u001b[38;5;28mlen\u001b[39m(data)\n\u001b[0;32m    314\u001b[0m \u001b[38;5;28;01mif\u001b[39;00m n \u001b[38;5;241m<\u001b[39m \u001b[38;5;241m1\u001b[39m:\n\u001b[1;32m--> 315\u001b[0m     \u001b[38;5;28;01mraise\u001b[39;00m StatisticsError(\u001b[38;5;124m'\u001b[39m\u001b[38;5;124mmean requires at least one data point\u001b[39m\u001b[38;5;124m'\u001b[39m)\n\u001b[0;32m    316\u001b[0m T, total, count \u001b[38;5;241m=\u001b[39m _sum(data)\n\u001b[0;32m    317\u001b[0m \u001b[38;5;28;01massert\u001b[39;00m count \u001b[38;5;241m==\u001b[39m n\n",
      "\u001b[1;31mStatisticsError\u001b[0m: mean requires at least one data point"
     ]
    }
   ],
   "source": [
    "from kinematics_processing import kinematics_process\n",
    "\n",
    "path = '.\\\\Part\\\\Part01\\\\'\n",
    "poseFile = path + 'Part01_pose.json'\n",
    "anglesFile = path + 'Part01_angles.json'\n",
    "writeFile = path + 'Part01_gc.json'\n",
    "start_time = time.time()\n",
    "kinematics_process(poseFile, anglesFile, writeFile)\n",
    "print('Kinematics processed and saved in', '\\\"' + writeFile + '\\\"', '[Time:',\n",
    "              '{0:.2f}'.format(time.time() - start_time), 's]')"
   ]
  },
  {
   "cell_type": "code",
   "execution_count": null,
   "metadata": {
    "pycharm": {
     "name": "#%%\n"
    }
   },
   "outputs": [],
   "source": [
    "# ==================================================================================\n",
    "#                               VISUALIZER\n",
    "# ----------------------------------------------------------------------------------\n",
    "#                    Input: JSON, Output: Debugging plots / Gifs\n",
    "#               Visualizes saved graph structure of poses, as well as\n",
    "#               saved raw kinematics, and processed kinematics\n",
    "# ==================================================================================\n",
    "# 可视化"
   ]
  },
  {
   "cell_type": "code",
   "execution_count": null,
   "metadata": {
    "pycharm": {
     "name": "#%%\n"
    }
   },
   "outputs": [
    {
     "name": "stdout",
     "output_type": "stream",
     "text": [
      "Visualizing poses...\n"
     ]
    },
    {
     "name": "stderr",
     "output_type": "stream",
     "text": [
      "  0%|                                                                       | 0/324 [00:00<?, ?it/s]E:\\PycharmProjects\\automated-gait-analysis\\visualizer.py:102: UserWarning: Glyph 21103 (\\N{CJK UNIFIED IDEOGRAPH-526F}) missing from current font.\n",
      "  plt.savefig(buf, format='png')\n",
      "E:\\PycharmProjects\\automated-gait-analysis\\visualizer.py:102: UserWarning: Glyph 26412 (\\N{CJK UNIFIED IDEOGRAPH-672C}) missing from current font.\n",
      "  plt.savefig(buf, format='png')\n",
      " 36%|██████████████████████                                       | 117/324 [00:53<01:45,  1.97it/s]"
     ]
    }
   ],
   "source": [
    "from visualizer import gif_flexext, gif_abdadd, gif_pose, plot_avg_gcLR_all, plot_raw_all_file\n",
    "\n",
    "path = '.\\\\Part\\\\Part01\\\\'\n",
    "poseFile = path + 'Part01_pose.json'\n",
    "anglesFile = path + 'Part01_angles.json'\n",
    "# gcFile = path + 'Part01_gc.json'\n",
    "# plot_avg_gcLR_all(gcFile)\n",
    "\n",
    "i = 1  # The gait number\n",
    "gif_pose(poseFile, i, path)\n",
    "gif_flexext(poseFile, anglesFile, i, path)\n",
    "gif_abdadd(poseFile, anglesFile, i, path)"
   ]
  }
 ],
 "metadata": {
  "kernelspec": {
   "display_name": "Python 3 (ipykernel)",
   "language": "python",
   "name": "python3"
  },
  "language_info": {
   "codemirror_mode": {
    "name": "ipython",
    "version": 2
   },
   "file_extension": ".py",
   "mimetype": "text/x-python",
   "name": "python",
   "nbconvert_exporter": "python",
   "pygments_lexer": "ipython2",
   "version": "2.7.6"
  }
 },
 "nbformat": 4,
 "nbformat_minor": 1
}
