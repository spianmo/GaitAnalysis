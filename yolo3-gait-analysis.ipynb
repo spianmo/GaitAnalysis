{
 "cells": [
  {
   "cell_type": "markdown",
   "metadata": {
    "pycharm": {
     "name": "#%% md\n"
    }
   },
   "source": [
    "前机位和侧机位同时拍摄一段步态MP4视频，通过FFMPEG转换成两段步态AVI视频，作为输入数据"
   ]
  },
  {
   "cell_type": "code",
   "execution_count": 7,
   "metadata": {
    "pycharm": {
     "name": "#%%\n"
    }
   },
   "outputs": [],
   "source": [
    "from mp4_to_avi import convert_mp4_to_avi\n",
    "import glob\n",
    "\n",
    "input_directory = \"E://PycharmProjects/automated-gait-analysis/Part/Part01/\"\n",
    "output_directory = \"E://PycharmProjects/automated-gait-analysis/Part/Part01/\"\n",
    "files = glob.glob(input_directory + '*.mp4')\n",
    "for file_name in files:\n",
    "    try:\n",
    "        print(file_name)\n",
    "        convert_mp4_to_avi(file_name, output_directory)\n",
    "    except:\n",
    "        raise"
   ]
  },
  {
   "cell_type": "code",
   "execution_count": null,
   "metadata": {
    "pycharm": {
     "name": "#%%\n"
    }
   },
   "outputs": [],
   "source": [
    "# ==================================================================================\n",
    "#                               POSE ESTIMATION\n",
    "# ----------------------------------------------------------------------------------\n",
    "#                           Input: Video x 2, Output: JSON\n",
    "#               Given a front/back view and side view video of someone\n",
    "#               walking, this will generate a json, describing the pose\n",
    "#               via key-points in graph form, throughout every frame.\n",
    "# ==================================================================================\n",
    "# 使用yolo3_mobilenet1.0_coco预训练模型作为Object detector，使用AlphaPose作为Pose estimator，生成描述步态姿势的JSON文件，包括视频的每一帧。"
   ]
  },
  {
   "cell_type": "code",
   "execution_count": 2,
   "metadata": {
    "pycharm": {
     "name": "#%%\n"
    }
   },
   "outputs": [
    {
     "name": "stdout",
     "output_type": "stream",
     "text": [
      ".\\Part\\Part01\\*.avi\n",
      ".\\Part\\Part01\\execrise-front.avi\n",
      ".\\Part\\Part01\\execrise-side.avi\n",
      "Capture pair (1/6) : \".\\Part\\Part01\\execrise-side.avi\" , \".\\Part\\Part01\\execrise-front.avi\"\n"
     ]
    },
    {
     "name": "stderr",
     "output_type": "stream",
     "text": [
      "Processing: 100%|█████████████████████████████████████████████████| 374/374 [05:17<00:00,  1.18it/s]\n",
      "Skipping  : 100%|█████████████████████████████████████████████████| 566/566 [06:01<00:00,  1.57it/s]\n"
     ]
    },
    {
     "name": "stdout",
     "output_type": "stream",
     "text": [
      "Warning: side video [416, 740] and front video [416, 738] of different dimensions\n",
      "Warning: side video 374 and front video 566 of different frame counts\n",
      "Poses estimated and saved in \".\\Part\\Part01\\Part01_pose.json\" [Time: 679.15 s]\n"
     ]
    }
   ],
   "source": [
    "from pose_estimation import estimate_poses\n",
    "import time\n",
    "import os\n",
    "\n",
    "path = '.\\\\Part\\\\Part01\\\\'\n",
    "if not os.path.exists(path):\n",
    "    os.makedirs(path)\n",
    "\n",
    "writeFile = path + 'Part01_pose.json'\n",
    "if not os.path.exists(writeFile):\n",
    "    f = open(writeFile, 'w')\n",
    "    f.close()\n",
    "\n",
    "start_time = time.time()\n",
    "estimate_poses(path, writeFile)\n",
    "print('Poses estimated and saved in', '\\\"' + writeFile + '\\\"', '[Time:',\n",
    "            '{0:.2f}'.format(time.time() - start_time), 's]')"
   ]
  },
  {
   "cell_type": "code",
   "execution_count": null,
   "metadata": {
    "pycharm": {
     "name": "#%%\n"
    }
   },
   "outputs": [],
   "source": [
    "# ==================================================================================\n",
    "#                               KINEMATICS_EXTRACTION\n",
    "# ----------------------------------------------------------------------------------\n",
    "#                      Input: Pose sequence, Output: Raw kinematics\n",
    "#               Given a JSON describing poses throughout two video views,\n",
    "#               Extracts kinematics and computes kinematics through joint angles\n",
    "# ==================================================================================\n",
    "#                                   Imports\n",
    "# =================================================================================="
   ]
  },
  {
   "cell_type": "code",
   "execution_count": 3,
   "metadata": {
    "pycharm": {
     "name": "#%%\n"
    }
   },
   "outputs": [
    {
     "name": "stdout",
     "output_type": "stream",
     "text": [
      "Kinematics extracted and saved in \".\\Part\\Part01\\Part01_angles.json\" [Time: 0.11 s]\n"
     ]
    },
    {
     "name": "stderr",
     "output_type": "stream",
     "text": [
      "E:\\PycharmProjects\\automated-gait-analysis\\kinematics_extraction.py:137: RuntimeWarning: invalid value encountered in arccos\n",
      "  angle = np.arccos(cosine_angle)\n"
     ]
    }
   ],
   "source": [
    "from kinematics_extraction import kinematics_extract\n",
    "\n",
    "path = '.\\\\Part\\\\Part01\\\\'\n",
    "readFile = path + 'Part01_pose.json'\n",
    "writeFile = path + 'Part01_angles.json'\n",
    "start_time = time.time()\n",
    "kinematics_extract(readFile, writeFile)\n",
    "print('Kinematics extracted and saved in', '\\\"' + writeFile + '\\\"', '[Time:',\n",
    "        '{0:.2f}'.format(time.time() - start_time), 's]')"
   ]
  },
  {
   "cell_type": "code",
   "execution_count": null,
   "metadata": {
    "pycharm": {
     "name": "#%%\n"
    }
   },
   "outputs": [],
   "source": [
    "# ==================================================================================\n",
    "#                               KINEMATICS_PROCESSING\n",
    "# ----------------------------------------------------------------------------------\n",
    "#                    Input: Pose Json and Raw angles, Output: Gait Cycle graphs\n",
    "#               Given a JSON describing angles of joints throughout a walk,\n",
    "#               Smooth kinematics and averages to one standard gait cycle.\n",
    "# ==================================================================================\n",
    "# 根据姿势JSON和角度, 输出步态周期图"
   ]
  },
  {
   "cell_type": "code",
   "execution_count": 6,
   "metadata": {
    "pycharm": {
     "name": "#%%\n"
    }
   },
   "outputs": [
    {
     "name": "stdout",
     "output_type": "stream",
     "text": [
      "Kinematics processed and saved in \".\\Part\\Part01\\Part01_gc.json\" [Time: 0.11 s]\n"
     ]
    }
   ],
   "source": [
    "from kinematics_processing import kinematics_process\n",
    "\n",
    "path = '.\\\\Part\\\\Part01\\\\'\n",
    "poseFile = path + 'Part01_pose.json'\n",
    "anglesFile = path + 'Part01_angles.json'\n",
    "writeFile = path + 'Part01_gc.json'\n",
    "start_time = time.time()\n",
    "kinematics_process(poseFile, anglesFile, writeFile)\n",
    "print('Kinematics processed and saved in', '\\\"' + writeFile + '\\\"', '[Time:',\n",
    "              '{0:.2f}'.format(time.time() - start_time), 's]')"
   ]
  },
  {
   "cell_type": "code",
   "execution_count": null,
   "metadata": {
    "pycharm": {
     "name": "#%%\n"
    }
   },
   "outputs": [],
   "source": [
    "# ==================================================================================\n",
    "#                               VISUALIZER\n",
    "# ----------------------------------------------------------------------------------\n",
    "#                    Input: JSON, Output: Debugging plots / Gifs\n",
    "#               Visualizes saved graph structure of poses, as well as\n",
    "#               saved raw kinematics, and processed kinematics\n",
    "# ==================================================================================\n",
    "# 可视化"
   ]
  },
  {
   "cell_type": "code",
   "execution_count": 2,
   "outputs": [
    {
     "ename": "FileNotFoundError",
     "evalue": "[Errno 2] No such file or directory: '.\\\\Part\\\\Part01\\\\Part01_gc.json'",
     "output_type": "error",
     "traceback": [
      "\u001B[1;31m---------------------------------------------------------------------------\u001B[0m",
      "\u001B[1;31mFileNotFoundError\u001B[0m                         Traceback (most recent call last)",
      "Input \u001B[1;32mIn [2]\u001B[0m, in \u001B[0;36m<cell line: 7>\u001B[1;34m()\u001B[0m\n\u001B[0;32m      5\u001B[0m anglesFile \u001B[38;5;241m=\u001B[39m path \u001B[38;5;241m+\u001B[39m \u001B[38;5;124m'\u001B[39m\u001B[38;5;124mPart01_angles.json\u001B[39m\u001B[38;5;124m'\u001B[39m\n\u001B[0;32m      6\u001B[0m gcFile \u001B[38;5;241m=\u001B[39m path \u001B[38;5;241m+\u001B[39m \u001B[38;5;124m'\u001B[39m\u001B[38;5;124mPart01_gc.json\u001B[39m\u001B[38;5;124m'\u001B[39m\n\u001B[1;32m----> 7\u001B[0m \u001B[43mplot_avg_gcLR_all\u001B[49m\u001B[43m(\u001B[49m\u001B[43mgcFile\u001B[49m\u001B[43m)\u001B[49m\n\u001B[0;32m      9\u001B[0m i \u001B[38;5;241m=\u001B[39m \u001B[38;5;241m1\u001B[39m  \u001B[38;5;66;03m# The gait number\u001B[39;00m\n\u001B[0;32m     10\u001B[0m gif_pose(poseFile, i, path)\n",
      "File \u001B[1;32mE:\\PycharmProjects\\automated-gait-analysis\\visualizer.py:357\u001B[0m, in \u001B[0;36mplot_avg_gcLR_all\u001B[1;34m(gcFile)\u001B[0m\n\u001B[0;32m    356\u001B[0m \u001B[38;5;28;01mdef\u001B[39;00m \u001B[38;5;21mplot_avg_gcLR_all\u001B[39m(gcFile):\n\u001B[1;32m--> 357\u001B[0m     \u001B[38;5;28;01mwith\u001B[39;00m \u001B[38;5;28;43mopen\u001B[39;49m\u001B[43m(\u001B[49m\u001B[43mgcFile\u001B[49m\u001B[43m,\u001B[49m\u001B[43m \u001B[49m\u001B[38;5;124;43m'\u001B[39;49m\u001B[38;5;124;43mr\u001B[39;49m\u001B[38;5;124;43m'\u001B[39;49m\u001B[43m)\u001B[49m \u001B[38;5;28;01mas\u001B[39;00m f:\n\u001B[0;32m    358\u001B[0m         gc \u001B[38;5;241m=\u001B[39m json\u001B[38;5;241m.\u001B[39mload(f)\n\u001B[0;32m    360\u001B[0m     knee_FlexExt_avg \u001B[38;5;241m=\u001B[39m gc[\u001B[38;5;124m'\u001B[39m\u001B[38;5;124mknee_FlexExt_avg\u001B[39m\u001B[38;5;124m'\u001B[39m]\n",
      "\u001B[1;31mFileNotFoundError\u001B[0m: [Errno 2] No such file or directory: '.\\\\Part\\\\Part01\\\\Part01_gc.json'"
     ]
    }
   ],
   "source": [
    "from visualizer import gif_flexext, gif_abdadd, gif_pose, plot_avg_gcLR_all, plot_raw_all_file\n",
    "\n",
    "path = '.\\\\Part\\\\Part01\\\\'\n",
    "poseFile = path + 'Part01_pose.json'\n",
    "anglesFile = path + 'Part01_angles.json'\n",
    "gcFile = path + 'Part01_gc.json'\n",
    "plot_avg_gcLR_all(gcFile)\n",
    "\n",
    "i = 1  # The gait number\n",
    "gif_pose(poseFile, i, path)\n",
    "gif_flexext(poseFile, anglesFile, i, path)\n",
    "gif_abdadd(poseFile, anglesFile, i, path)"
   ],
   "metadata": {
    "collapsed": false,
    "pycharm": {
     "name": "#%%\n"
    }
   }
  },
  {
   "cell_type": "code",
   "execution_count": null,
   "outputs": [],
   "source": [],
   "metadata": {
    "collapsed": false,
    "pycharm": {
     "name": "#%%\n"
    }
   }
  }
 ],
 "metadata": {
  "kernelspec": {
   "display_name": "Python 3 (ipykernel)",
   "language": "python",
   "name": "python3"
  },
  "language_info": {
   "codemirror_mode": {
    "name": "ipython",
    "version": 2
   },
   "file_extension": ".py",
   "mimetype": "text/x-python",
   "name": "python",
   "nbconvert_exporter": "python",
   "pygments_lexer": "ipython2",
   "version": "2.7.6"
  }
 },
 "nbformat": 4,
 "nbformat_minor": 1
}